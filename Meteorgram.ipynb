{
  "nbformat": 4,
  "nbformat_minor": 0,
  "metadata": {
    "colab": {
      "provenance": [],
      "authorship_tag": "ABX9TyPJa077H/rVSHpC1DooMpMA",
      "include_colab_link": true
    },
    "kernelspec": {
      "name": "python3",
      "display_name": "Python 3"
    },
    "language_info": {
      "name": "python"
    }
  },
  "cells": [
    {
      "cell_type": "markdown",
      "metadata": {
        "id": "view-in-github",
        "colab_type": "text"
      },
      "source": [
        "<a href=\"https://colab.research.google.com/github/ebudd45/Meteorologyclass/blob/main/Meteorgram.ipynb\" target=\"_parent\"><img src=\"https://colab.research.google.com/assets/colab-badge.svg\" alt=\"Open In Colab\"/></a>"
      ]
    },
    {
      "cell_type": "code",
      "source": [
        "#import needed modules\n",
        "import pandas as pd\n",
        "import numpy as np\n",
        "import matplotlib.pyplot as plt\n",
        "from datetime import datetime, timedelta"
      ],
      "metadata": {
        "id": "XcuZNto4UWUU"
      },
      "execution_count": null,
      "outputs": []
    },
    {
      "cell_type": "code",
      "source": [
        "from google.colab import files\n",
        "uploaded = files.upload()"
      ],
      "metadata": {
        "colab": {
          "base_uri": "https://localhost:8080/",
          "height": 73
        },
        "id": "70SJ9cy8_A17",
        "outputId": "2544cee2-fa9c-4408-927a-e7ffe94d1a84"
      },
      "execution_count": null,
      "outputs": [
        {
          "output_type": "display_data",
          "data": {
            "text/plain": [
              "<IPython.core.display.HTML object>"
            ],
            "text/html": [
              "\n",
              "     <input type=\"file\" id=\"files-5d19c46a-28e8-42cf-bc8e-4b74576900c9\" name=\"files[]\" multiple disabled\n",
              "        style=\"border:none\" />\n",
              "     <output id=\"result-5d19c46a-28e8-42cf-bc8e-4b74576900c9\">\n",
              "      Upload widget is only available when the cell has been executed in the\n",
              "      current browser session. Please rerun this cell to enable.\n",
              "      </output>\n",
              "      <script>// Copyright 2017 Google LLC\n",
              "//\n",
              "// Licensed under the Apache License, Version 2.0 (the \"License\");\n",
              "// you may not use this file except in compliance with the License.\n",
              "// You may obtain a copy of the License at\n",
              "//\n",
              "//      http://www.apache.org/licenses/LICENSE-2.0\n",
              "//\n",
              "// Unless required by applicable law or agreed to in writing, software\n",
              "// distributed under the License is distributed on an \"AS IS\" BASIS,\n",
              "// WITHOUT WARRANTIES OR CONDITIONS OF ANY KIND, either express or implied.\n",
              "// See the License for the specific language governing permissions and\n",
              "// limitations under the License.\n",
              "\n",
              "/**\n",
              " * @fileoverview Helpers for google.colab Python module.\n",
              " */\n",
              "(function(scope) {\n",
              "function span(text, styleAttributes = {}) {\n",
              "  const element = document.createElement('span');\n",
              "  element.textContent = text;\n",
              "  for (const key of Object.keys(styleAttributes)) {\n",
              "    element.style[key] = styleAttributes[key];\n",
              "  }\n",
              "  return element;\n",
              "}\n",
              "\n",
              "// Max number of bytes which will be uploaded at a time.\n",
              "const MAX_PAYLOAD_SIZE = 100 * 1024;\n",
              "\n",
              "function _uploadFiles(inputId, outputId) {\n",
              "  const steps = uploadFilesStep(inputId, outputId);\n",
              "  const outputElement = document.getElementById(outputId);\n",
              "  // Cache steps on the outputElement to make it available for the next call\n",
              "  // to uploadFilesContinue from Python.\n",
              "  outputElement.steps = steps;\n",
              "\n",
              "  return _uploadFilesContinue(outputId);\n",
              "}\n",
              "\n",
              "// This is roughly an async generator (not supported in the browser yet),\n",
              "// where there are multiple asynchronous steps and the Python side is going\n",
              "// to poll for completion of each step.\n",
              "// This uses a Promise to block the python side on completion of each step,\n",
              "// then passes the result of the previous step as the input to the next step.\n",
              "function _uploadFilesContinue(outputId) {\n",
              "  const outputElement = document.getElementById(outputId);\n",
              "  const steps = outputElement.steps;\n",
              "\n",
              "  const next = steps.next(outputElement.lastPromiseValue);\n",
              "  return Promise.resolve(next.value.promise).then((value) => {\n",
              "    // Cache the last promise value to make it available to the next\n",
              "    // step of the generator.\n",
              "    outputElement.lastPromiseValue = value;\n",
              "    return next.value.response;\n",
              "  });\n",
              "}\n",
              "\n",
              "/**\n",
              " * Generator function which is called between each async step of the upload\n",
              " * process.\n",
              " * @param {string} inputId Element ID of the input file picker element.\n",
              " * @param {string} outputId Element ID of the output display.\n",
              " * @return {!Iterable<!Object>} Iterable of next steps.\n",
              " */\n",
              "function* uploadFilesStep(inputId, outputId) {\n",
              "  const inputElement = document.getElementById(inputId);\n",
              "  inputElement.disabled = false;\n",
              "\n",
              "  const outputElement = document.getElementById(outputId);\n",
              "  outputElement.innerHTML = '';\n",
              "\n",
              "  const pickedPromise = new Promise((resolve) => {\n",
              "    inputElement.addEventListener('change', (e) => {\n",
              "      resolve(e.target.files);\n",
              "    });\n",
              "  });\n",
              "\n",
              "  const cancel = document.createElement('button');\n",
              "  inputElement.parentElement.appendChild(cancel);\n",
              "  cancel.textContent = 'Cancel upload';\n",
              "  const cancelPromise = new Promise((resolve) => {\n",
              "    cancel.onclick = () => {\n",
              "      resolve(null);\n",
              "    };\n",
              "  });\n",
              "\n",
              "  // Wait for the user to pick the files.\n",
              "  const files = yield {\n",
              "    promise: Promise.race([pickedPromise, cancelPromise]),\n",
              "    response: {\n",
              "      action: 'starting',\n",
              "    }\n",
              "  };\n",
              "\n",
              "  cancel.remove();\n",
              "\n",
              "  // Disable the input element since further picks are not allowed.\n",
              "  inputElement.disabled = true;\n",
              "\n",
              "  if (!files) {\n",
              "    return {\n",
              "      response: {\n",
              "        action: 'complete',\n",
              "      }\n",
              "    };\n",
              "  }\n",
              "\n",
              "  for (const file of files) {\n",
              "    const li = document.createElement('li');\n",
              "    li.append(span(file.name, {fontWeight: 'bold'}));\n",
              "    li.append(span(\n",
              "        `(${file.type || 'n/a'}) - ${file.size} bytes, ` +\n",
              "        `last modified: ${\n",
              "            file.lastModifiedDate ? file.lastModifiedDate.toLocaleDateString() :\n",
              "                                    'n/a'} - `));\n",
              "    const percent = span('0% done');\n",
              "    li.appendChild(percent);\n",
              "\n",
              "    outputElement.appendChild(li);\n",
              "\n",
              "    const fileDataPromise = new Promise((resolve) => {\n",
              "      const reader = new FileReader();\n",
              "      reader.onload = (e) => {\n",
              "        resolve(e.target.result);\n",
              "      };\n",
              "      reader.readAsArrayBuffer(file);\n",
              "    });\n",
              "    // Wait for the data to be ready.\n",
              "    let fileData = yield {\n",
              "      promise: fileDataPromise,\n",
              "      response: {\n",
              "        action: 'continue',\n",
              "      }\n",
              "    };\n",
              "\n",
              "    // Use a chunked sending to avoid message size limits. See b/62115660.\n",
              "    let position = 0;\n",
              "    do {\n",
              "      const length = Math.min(fileData.byteLength - position, MAX_PAYLOAD_SIZE);\n",
              "      const chunk = new Uint8Array(fileData, position, length);\n",
              "      position += length;\n",
              "\n",
              "      const base64 = btoa(String.fromCharCode.apply(null, chunk));\n",
              "      yield {\n",
              "        response: {\n",
              "          action: 'append',\n",
              "          file: file.name,\n",
              "          data: base64,\n",
              "        },\n",
              "      };\n",
              "\n",
              "      let percentDone = fileData.byteLength === 0 ?\n",
              "          100 :\n",
              "          Math.round((position / fileData.byteLength) * 100);\n",
              "      percent.textContent = `${percentDone}% done`;\n",
              "\n",
              "    } while (position < fileData.byteLength);\n",
              "  }\n",
              "\n",
              "  // All done.\n",
              "  yield {\n",
              "    response: {\n",
              "      action: 'complete',\n",
              "    }\n",
              "  };\n",
              "}\n",
              "\n",
              "scope.google = scope.google || {};\n",
              "scope.google.colab = scope.google.colab || {};\n",
              "scope.google.colab._files = {\n",
              "  _uploadFiles,\n",
              "  _uploadFilesContinue,\n",
              "};\n",
              "})(self);\n",
              "</script> "
            ]
          },
          "metadata": {}
        },
        {
          "output_type": "stream",
          "name": "stdout",
          "text": [
            "Saving OKK.csv to OKK.csv\n"
          ]
        }
      ]
    },
    {
      "cell_type": "code",
      "source": [
        "#input date and station\n",
        "station=input('Input station id: ')\n",
        "date=input('Input date in YYYMMDD format: ')"
      ],
      "metadata": {
        "colab": {
          "base_uri": "https://localhost:8080/"
        },
        "id": "1IrIJ__SUWWT",
        "outputId": "6f6e4e33-58ab-43f3-e40e-93700b283cc9"
      },
      "execution_count": null,
      "outputs": [
        {
          "name": "stdout",
          "output_type": "stream",
          "text": [
            "Input station id: OKK\n",
            "Input date in YYYMMDD format: 20131117\n"
          ]
        }
      ]
    },
    {
      "cell_type": "code",
      "source": [
        "dt=datetime.strptime(date, '%Y%m%d')\n",
        "print(dt)"
      ],
      "metadata": {
        "colab": {
          "base_uri": "https://localhost:8080/"
        },
        "id": "TiE6x_aDUoOM",
        "outputId": "fadbe3d7-b666-4f14-ff77-a2b32357750c"
      },
      "execution_count": null,
      "outputs": [
        {
          "output_type": "stream",
          "name": "stdout",
          "text": [
            "2013-11-17 00:00:00\n"
          ]
        }
      ]
    },
    {
      "cell_type": "code",
      "source": [
        "#set up time data\n",
        "date1=dt-timedelta(minutes=10)\n",
        "date2=dt+timedelta(hours=24)-timedelta(minutes=10)"
      ],
      "metadata": {
        "id": "kvKhe9ymUoTb"
      },
      "execution_count": null,
      "outputs": []
    },
    {
      "cell_type": "code",
      "source": [
        "#read in a and print out data in more readable and aesthetic format\n",
        "\n",
        "import io\n",
        "data=pd.read_csv((io.BytesIO(uploaded['OKK.csv'])), usecols=[0,1,2,3,4,5, 6, 7 ,8,9,11], index_col=1, parse_dates=True)\n",
        "print(data)"
      ],
      "metadata": {
        "colab": {
          "base_uri": "https://localhost:8080/"
        },
        "id": "hgsAPE3OUwfk",
        "outputId": "1350d3cf-67a8-4bdd-c0b6-556b5cae9d3c"
      },
      "execution_count": null,
      "outputs": [
        {
          "output_type": "stream",
          "name": "stdout",
          "text": [
            "                    station  tmpf  dwpf   relh   drct  sknt  p01i   alti mslp  \\\n",
            "valid                                                                           \n",
            "2013-11-16 00:15:00     OKK  44.6  28.4  52.72  190.0   6.0  0.00  30.03    M   \n",
            "2013-11-16 00:35:00     OKK  46.4  28.4  49.24  200.0   6.0  0.00  30.04    M   \n",
            "2013-11-16 00:55:00     OKK  44.6  28.4  52.72  180.0   5.0  0.00  30.04    M   \n",
            "2013-11-16 01:15:00     OKK  44.6  30.2  56.74  180.0   7.0  0.00  30.04    M   \n",
            "2013-11-16 01:35:00     OKK  42.8  30.2  60.79  190.0   8.0  0.00  30.04    M   \n",
            "...                     ...   ...   ...    ...    ...   ...   ...    ...  ...   \n",
            "2013-11-17 18:55:00     OKK  62.6  57.2  82.50  190.0  25.0  0.00  29.42    M   \n",
            "2013-11-17 19:15:00     OKK  62.6  57.2  82.50  190.0  21.0  0.00  29.41    M   \n",
            "2013-11-17 19:35:00     OKK  62.6  59.0  88.00  190.0  15.0  0.02  29.41    M   \n",
            "2013-11-17 19:55:00     OKK  62.6  57.2  82.50  180.0  20.0  0.03  29.37    M   \n",
            "2013-11-17 20:15:00     OKK  62.6  59.0  88.00  180.0  20.0  0.01  29.34    M   \n",
            "\n",
            "                      gust  \n",
            "valid                       \n",
            "2013-11-16 00:15:00      M  \n",
            "2013-11-16 00:35:00      M  \n",
            "2013-11-16 00:55:00      M  \n",
            "2013-11-16 01:15:00      M  \n",
            "2013-11-16 01:35:00      M  \n",
            "...                    ...  \n",
            "2013-11-17 18:55:00  30.00  \n",
            "2013-11-17 19:15:00  28.00  \n",
            "2013-11-17 19:35:00  23.00  \n",
            "2013-11-17 19:55:00  27.00  \n",
            "2013-11-17 20:15:00  26.00  \n",
            "\n",
            "[133 rows x 10 columns]\n"
          ]
        }
      ]
    },
    {
      "cell_type": "code",
      "source": [
        "#generate temp/dew point meteogram\n",
        "\n",
        "plt.figure(1,figsize = (20,7))\n",
        "\n",
        "plt.plot(data.loc[date1:date2].index, data.loc[date1:date2].tmpf, color ='maroon', linewidth=5, label = 'TMPF')\n",
        "plt.plot(data.loc[date1:date2].index, data.loc[date1:date2].dwpf, color ='darkgreen', linewidth=5, label = 'DWPF')\n",
        "\n",
        "plt.xlabel('time')\n",
        "plt.ylabel('temperature(F)')\n",
        "\n",
        "plt.fill_between(data.loc[date1:date2].index, data.loc[date1:date2].tmpf, data.loc[date1:date2].dwpf,  color ='red')\n",
        "plt.fill_between(data.loc[date1:date2].index,data.loc[date1:date2].dwpf,0,color='green')\n",
        "                 \n",
        "plt.legend()\n",
        "plt.title('Temperature and Dew Point values')\n",
        "plt.grid()\n",
        "plt.show()"
      ],
      "metadata": {
        "id": "r9iO6n45Uwlc",
        "colab": {
          "base_uri": "https://localhost:8080/",
          "height": 458
        },
        "outputId": "9c41dc0c-1514-4467-b99b-c390eec85e89"
      },
      "execution_count": null,
      "outputs": [
        {
          "output_type": "display_data",
          "data": {
            "text/plain": [
              "<Figure size 1440x504 with 1 Axes>"
            ],
            "image/png": "[encoded data removed]"
          },
          "metadata": {
            "needs_background": "light"
          }
        }
      ]
    },
    {
      "cell_type": "code",
      "source": [
        "#generate altimeter meteogram\n",
        "\n",
        "plt.figure(1,figsize = (20,7))\n",
        "\n",
        "plt.plot(data.loc[date1:date2].index, data.loc[date1:date2].alti, color ='orange', linewidth=5, label = 'altimeter(hg)')\n",
        "plt.fill_between(data.loc[date1:date2].index,data.loc[date1:date2].alti,0,color='sienna')\n",
        "\n",
        "plt.ylim(29.5, 30.1)\n",
        "plt.xlabel('time')\n",
        "plt.ylabel('pressure (hg)')\n",
        "\n",
        "plt.legend()\n",
        "plt.title('Altimeter values (hg)')\n",
        "plt.grid()\n",
        "plt.show()"
      ],
      "metadata": {
        "id": "ATXRaXXwUWYj",
        "colab": {
          "base_uri": "https://localhost:8080/",
          "height": 458
        },
        "outputId": "18e2bbf5-8a47-4cf6-80d5-07cbde504d54"
      },
      "execution_count": null,
      "outputs": [
        {
          "output_type": "display_data",
          "data": {
            "text/plain": [
              "<Figure size 1440x504 with 1 Axes>"
            ],
            "image/png": "[encoded data removed]"
          },
          "metadata": {
            "needs_background": "light"
          }
        }
      ]
    },
    {
      "cell_type": "code",
      "source": [
        "#generate wind meteogram\n",
        "\n",
        "plt.figure(3,figsize=(20,7))\n",
        "\n",
        "plt1=plt.subplot()\n",
        "\n",
        "b1=plt1.bar(data.loc[date1:date2].index, data.loc[date1:date2].sknt, color='lightblue', label = 'Wind speed (knt)', align ='center', width=0.01)\n",
        "\n",
        "plt2=plt1.twinx()\n",
        "\n",
        "s1=plt2.scatter(data.loc[date1:date2].index, data.loc[date1:date2].drct, s=100, color='maroon', marker='*', label = 'wind direction (degrees)') \n",
        "\n",
        "plt1.set_ylabel('wind speed (kts)')\n",
        "plt2.set_ylabel('wind direction (degrees)')\n",
        "\n",
        "plt.legend([b1,s1],['wind speed (kts)', 'wind direction (degrees)'])\n",
        "plt.grid()\n",
        "plt.show()"
      ],
      "metadata": {
        "id": "BqXaqOdyYERl",
        "colab": {
          "base_uri": "https://localhost:8080/",
          "height": 428
        },
        "outputId": "e3d31678-6fe6-4e97-a6e3-a17905d253af"
      },
      "execution_count": null,
      "outputs": [
        {
          "output_type": "display_data",
          "data": {
            "text/plain": [
              "<Figure size 1440x504 with 2 Axes>"
            ],
            "image/png": "[encoded data removed]"
          },
          "metadata": {
            "needs_background": "light"
          }
        }
      ]
    },
    {
      "cell_type": "code",
      "source": [
        "#generate precip meteogram\n",
        "\n",
        "plt.figure(1,figsize = (20,7))\n",
        "\n",
        "plt.plot(data.loc[date1:date2].index, np.cumsum(data.loc[date1:date2].p01i), color ='green', linewidth=5, label = 'precip(in)')\n",
        "plt.fill_between(data.loc[date1:date2].index, np.cumsum(data.loc[date1:date2].p01i),0,color='lightgreen')\n",
        "\n",
        "\n",
        "plt.ylim(0,0.8)\n",
        "plt.xlabel('time')\n",
        "plt.ylabel('precip accumulation (in)')\n",
        "\n",
        "plt.legend()\n",
        "plt.title('Precip accumulation (in)')\n",
        "plt.grid()\n",
        "plt.show()"
      ],
      "metadata": {
        "id": "LX8BD63hUWa9",
        "colab": {
          "base_uri": "https://localhost:8080/",
          "height": 458
        },
        "outputId": "238af099-aaa2-4182-ebfa-d8e91295d077"
      },
      "execution_count": null,
      "outputs": [
        {
          "output_type": "display_data",
          "data": {
            "text/plain": [
              "<Figure size 1440x504 with 1 Axes>"
            ],
            "image/png": "[encoded data removed]"
          },
          "metadata": {
            "needs_background": "light"
          }
        }
      ]
    },
    {
      "cell_type": "code",
      "source": [
        "#temperature stats\n",
        "print(f'Daily Statistics for {station} on {dt}')\n",
        "print()\n",
        "print('Statistics for Temperature')\n",
        "\n",
        "max=np.max(data.loc[date1:date2].tmpf)\n",
        "time_max=np.where(data.loc[date1:date2].tmpf==max)[0][0]\n",
        "where_max=(data.loc[date1:date2].tmpf.index[time_max])\n",
        "\n",
        "min=np.min(data.loc[date1:date2].tmpf)\n",
        "time_min=np.where(data.loc[date1:date2].tmpf==min)[0][0]\n",
        "where_min=(data.loc[date1:date2].tmpf.index[time_min])\n",
        "\n",
        "tmpf_avr=np.average(data.loc[date1:date2].tmpf)\n",
        "\n",
        "print(f'Max temp: {max} F at {where_max}')\n",
        "print(f'Min temp: {min} F at {where_min}')\n",
        "print(f'Average temp: {tmpf_avr} F ')"
      ],
      "metadata": {
        "id": "V_Vn1Gs6YNFU",
        "colab": {
          "base_uri": "https://localhost:8080/"
        },
        "outputId": "9a2bd904-a524-46da-ba73-92119a3beb50"
      },
      "execution_count": null,
      "outputs": [
        {
          "output_type": "stream",
          "name": "stdout",
          "text": [
            "Daily Statistics for OKK on 2013-11-17 00:00:00\n",
            "\n",
            "Statistics for Temperature\n",
            "Max temp: 62.6 F at 2013-11-17 15:15:00\n",
            "Min temp: 55.4 F at 2013-11-16 23:55:00\n",
            "Average temp: 59.609677419354824 F \n"
          ]
        }
      ]
    },
    {
      "cell_type": "code",
      "source": [
        "#dew point stats\n",
        "\n",
        "print('Statistics for dew point')\n",
        "max=np.max(data.loc[date1:date2].dwpf)\n",
        "time_max=np.where(data.loc[date1:date2].dwpf==max)[0][0]\n",
        "where_max=(data.loc[date1:date2].dwpf.index[time_max])\n",
        "\n",
        "min=np.min(data.loc[date1:date2].dwpf)\n",
        "time_min=np.where(data.loc[date1:date2].dwpf==min)[0][0]\n",
        "where_min=(data.loc[date1:date2].dwpf.index[time_min])\n",
        "\n",
        "dwpf_avr=np.average(data.loc[date1:date2].dwpf)\n",
        "\n",
        "print(f'Max dew point: {max} F at {where_max}')\n",
        "print(f'Min dew point: {min} F at {where_min}')\n",
        "print(f'Average dew point: {dwpf_avr} F ')"
      ],
      "metadata": {
        "id": "B6_wO18XYNKz",
        "colab": {
          "base_uri": "https://localhost:8080/"
        },
        "outputId": "fd53d12a-23f2-4093-c1d4-291f149f1c98"
      },
      "execution_count": null,
      "outputs": [
        {
          "output_type": "stream",
          "name": "stdout",
          "text": [
            "Statistics for dew point\n",
            "Max dew point: 59.0 F at 2013-11-17 19:35:00\n",
            "Min dew point: 50.0 F at 2013-11-16 23:55:00\n",
            "Average dew point: 55.05161290322579 F \n"
          ]
        }
      ]
    },
    {
      "cell_type": "code",
      "source": [
        "# #altimeter stats\n",
        "print('Statistics for altimeter')\n",
        "\n",
        "max=np.max(data.loc[date1:date2].alti)\n",
        "time_max=np.where(data.loc[date1:date2].alti==max)[0][0]\n",
        "where_max=(data.loc[date1:date2].alti.index[time_max])\n",
        "\n",
        "min=np.min(data.loc[date1:date2].alti)\n",
        "time_min=np.where(data.loc[date1:date2].alti==min)[0][0]\n",
        "where_min=(data.loc[date1:date2].alti.index[time_min])\n",
        "\n",
        "alti_avr=np.average(data.loc[date1:date2].alti)\n",
        "\n",
        "print(f'Max pressure: {max} Hg at {where_max}')\n",
        "print(f'Min pressure: {min} hg at {where_min}')\n",
        "print(f'Average pressure: {alti_avr} Hg ')"
      ],
      "metadata": {
        "id": "dnDwUKYNYSQz",
        "colab": {
          "base_uri": "https://localhost:8080/"
        },
        "outputId": "9968c55e-74fb-4413-e559-7a4fb13680d0"
      },
      "execution_count": null,
      "outputs": [
        {
          "output_type": "stream",
          "name": "stdout",
          "text": [
            "Statistics for altimeter\n",
            "Max pressure: 29.83 Hg at 2013-11-16 23:55:00\n",
            "Min pressure: 29.34 hg at 2013-11-17 20:15:00\n",
            "Average pressure: 29.65306451612903 Hg \n"
          ]
        }
      ]
    },
    {
      "cell_type": "code",
      "source": [
        "#wind stats\n",
        "print('Statistics for wind')\n",
        "\n",
        "max=np.max(data.loc[date1:date2].sknt)\n",
        "time_max=np.where(data.loc[date1:date2].sknt==max)[0][0]\n",
        "where_max=(data.loc[date1:date2].sknt.index[time_max])\n",
        "dir_max=(data.loc[where_max].drct)\n",
        "\n",
        "min=np.min(data.loc[date1:date2].sknt)\n",
        "time_min=np.where(data.loc[date1:date2].sknt==min)[0][0]\n",
        "where_min=(data.loc[date1:date2].sknt.index[time_min])\n",
        "dir_min=(data.loc[where_min].drct)\n",
        "\n",
        "sknt_avr=np.average(data.loc[date1:date2].sknt)\n",
        "print(f'max: {max} kts at {where_max}')\n",
        "print(f'max wind from {dir_max} deg')\n",
        "print(f'min: {min} kts at {where_min}')\n",
        "print(f'min wind from {dir_min} deg')\n",
        "print(f'average: {sknt_avr} kts')"
      ],
      "metadata": {
        "id": "awuTqoOWYNOz",
        "colab": {
          "base_uri": "https://localhost:8080/"
        },
        "outputId": "a9f191e0-162f-40e7-ab91-bc4f877869f5"
      },
      "execution_count": null,
      "outputs": [
        {
          "output_type": "stream",
          "name": "stdout",
          "text": [
            "Statistics for wind\n",
            "max: 25.0 kts at 2013-11-17 18:55:00\n",
            "max wind from 190.0 deg\n",
            "min: 11.0 kts at 2013-11-17 05:15:00\n",
            "min wind from 200.0 deg\n",
            "average: 16.661290322580644 kts\n"
          ]
        }
      ]
    },
    {
      "cell_type": "code",
      "source": [
        "#precip stats\n",
        "print('Statistics for precip')\n",
        "\n",
        "sum_precip=np.sum(data.loc[date1:date2].p01i)\n",
        "print(f'Precipitation Accumulation: {sum_precip} in')\n",
        "\n",
        "tmpf_less_32=data.loc[date1:date2].tmpf<32\n",
        "tmpf_more_32=data.loc[date1:date2].tmpf>32\n",
        "#data.loc[date1:date2].tmpf[tmpf_less_32].count()\n",
        "#data.loc[date1:date2].tmpf[tmpf_more_32].count()\n",
        "\n",
        "print(f'number of hours under 32 F: {data.loc[date1:date2].tmpf[tmpf_less_32].count()}')\n",
        "print(f'number of hours over 32 F: {data.loc[date1:date2].tmpf[tmpf_more_32].count()}')"
      ],
      "metadata": {
        "id": "wVdiUN1oYZm1",
        "colab": {
          "base_uri": "https://localhost:8080/"
        },
        "outputId": "89d73cd8-8510-4314-d70f-6e4dc8dbe7fa"
      },
      "execution_count": null,
      "outputs": [
        {
          "output_type": "stream",
          "name": "stdout",
          "text": [
            "Statistics for precip\n",
            "Precipitation Accumulation: 0.43000000000000005 in\n",
            "number of hours under 32 F: 0\n",
            "number of hours over 32 F: 62\n"
          ]
        }
      ]
    }
  ]
}