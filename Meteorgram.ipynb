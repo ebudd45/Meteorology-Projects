{
  "nbformat": 4,
  "nbformat_minor": 0,
  "metadata": {
    "colab": {
      "provenance": [],
      "authorship_tag": "ABX9TyOFVNoxg0EqldLzuSDjfraG",
      "include_colab_link": true
    },
    "kernelspec": {
      "name": "python3",
      "display_name": "Python 3"
    },
    "language_info": {
      "name": "python"
    }
  },
  "cells": [
    {
      "cell_type": "markdown",
      "metadata": {
        "id": "view-in-github",
        "colab_type": "text"
      },
      "source": [
        "<a href=\"https://colab.research.google.com/github/ebudd45/Meteorologyclass/blob/main/Meteorgram.ipynb\" target=\"_parent\"><img src=\"https://colab.research.google.com/assets/colab-badge.svg\" alt=\"Open In Colab\"/></a>"
      ]
    },
    {
      "cell_type": "code",
      "execution_count": 1,
      "metadata": {
        "colab": {
          "base_uri": "https://localhost:8080/"
        },
        "id": "emg07Rv-UKH7",
        "outputId": "bf5905f2-d3a4-47ed-c373-273585a4fafd"
      },
      "outputs": [
        {
          "output_type": "stream",
          "name": "stdout",
          "text": [
            "Looking in indexes: https://pypi.org/simple, https://us-python.pkg.dev/colab-wheels/public/simple/\n",
            "Collecting metpy\n",
            "  Downloading MetPy-1.4.1-py3-none-any.whl (387 kB)\n",
            "\u001b[2K     \u001b[90m━━━━━━━━━━━━━━━━━━━━━━━━━━━━━━━━━━━━━━━\u001b[0m \u001b[32m387.8/387.8 KB\u001b[0m \u001b[31m6.2 MB/s\u001b[0m eta \u001b[36m0:00:00\u001b[0m\n",
            "\u001b[?25hRequirement already satisfied: pandas>=1.0.0 in /usr/local/lib/python3.9/dist-packages (from metpy) (1.4.4)\n",
            "Requirement already satisfied: numpy>=1.18.0 in /usr/local/lib/python3.9/dist-packages (from metpy) (1.22.4)\n",
            "Collecting pyproj>=2.6.1\n",
            "  Downloading pyproj-3.4.1-cp39-cp39-manylinux_2_17_x86_64.manylinux2014_x86_64.whl (7.7 MB)\n",
            "\u001b[2K     \u001b[90m━━━━━━━━━━━━━━━━━━━━━━━━━━━━━━━━━━━━━━━━\u001b[0m \u001b[32m7.7/7.7 MB\u001b[0m \u001b[31m51.7 MB/s\u001b[0m eta \u001b[36m0:00:00\u001b[0m\n",
            "\u001b[?25hRequirement already satisfied: matplotlib>=3.3.0 in /usr/local/lib/python3.9/dist-packages (from metpy) (3.7.1)\n",
            "Requirement already satisfied: scipy>=1.4.0 in /usr/local/lib/python3.9/dist-packages (from metpy) (1.10.1)\n",
            "Requirement already satisfied: xarray>=0.18.0 in /usr/local/lib/python3.9/dist-packages (from metpy) (2022.12.0)\n",
            "Requirement already satisfied: traitlets>=5.0.5 in /usr/local/lib/python3.9/dist-packages (from metpy) (5.7.1)\n",
            "Collecting pint>=0.15\n",
            "  Downloading Pint-0.20.1-py3-none-any.whl (269 kB)\n",
            "\u001b[2K     \u001b[90m━━━━━━━━━━━━━━━━━━━━━━━━━━━━━━━━━━━━━━\u001b[0m \u001b[32m269.5/269.5 KB\u001b[0m \u001b[31m10.9 MB/s\u001b[0m eta \u001b[36m0:00:00\u001b[0m\n",
            "\u001b[?25hRequirement already satisfied: pooch>=1.2.0 in /usr/local/lib/python3.9/dist-packages (from metpy) (1.6.0)\n",
            "Requirement already satisfied: fonttools>=4.22.0 in /usr/local/lib/python3.9/dist-packages (from matplotlib>=3.3.0->metpy) (4.39.2)\n",
            "Requirement already satisfied: kiwisolver>=1.0.1 in /usr/local/lib/python3.9/dist-packages (from matplotlib>=3.3.0->metpy) (1.4.4)\n",
            "Requirement already satisfied: pillow>=6.2.0 in /usr/local/lib/python3.9/dist-packages (from matplotlib>=3.3.0->metpy) (8.4.0)\n",
            "Requirement already satisfied: contourpy>=1.0.1 in /usr/local/lib/python3.9/dist-packages (from matplotlib>=3.3.0->metpy) (1.0.7)\n",
            "Requirement already satisfied: cycler>=0.10 in /usr/local/lib/python3.9/dist-packages (from matplotlib>=3.3.0->metpy) (0.11.0)\n",
            "Requirement already satisfied: packaging>=20.0 in /usr/local/lib/python3.9/dist-packages (from matplotlib>=3.3.0->metpy) (23.0)\n",
            "Requirement already satisfied: pyparsing>=2.3.1 in /usr/local/lib/python3.9/dist-packages (from matplotlib>=3.3.0->metpy) (3.0.9)\n",
            "Requirement already satisfied: importlib-resources>=3.2.0 in /usr/local/lib/python3.9/dist-packages (from matplotlib>=3.3.0->metpy) (5.12.0)\n",
            "Requirement already satisfied: python-dateutil>=2.7 in /usr/local/lib/python3.9/dist-packages (from matplotlib>=3.3.0->metpy) (2.8.2)\n",
            "Requirement already satisfied: pytz>=2020.1 in /usr/local/lib/python3.9/dist-packages (from pandas>=1.0.0->metpy) (2022.7.1)\n",
            "Requirement already satisfied: appdirs>=1.3.0 in /usr/local/lib/python3.9/dist-packages (from pooch>=1.2.0->metpy) (1.4.4)\n",
            "Requirement already satisfied: requests>=2.19.0 in /usr/local/lib/python3.9/dist-packages (from pooch>=1.2.0->metpy) (2.27.1)\n",
            "Requirement already satisfied: certifi in /usr/local/lib/python3.9/dist-packages (from pyproj>=2.6.1->metpy) (2022.12.7)\n",
            "Requirement already satisfied: zipp>=3.1.0 in /usr/local/lib/python3.9/dist-packages (from importlib-resources>=3.2.0->matplotlib>=3.3.0->metpy) (3.15.0)\n",
            "Requirement already satisfied: six>=1.5 in /usr/local/lib/python3.9/dist-packages (from python-dateutil>=2.7->matplotlib>=3.3.0->metpy) (1.16.0)\n",
            "Requirement already satisfied: urllib3<1.27,>=1.21.1 in /usr/local/lib/python3.9/dist-packages (from requests>=2.19.0->pooch>=1.2.0->metpy) (1.26.15)\n",
            "Requirement already satisfied: charset-normalizer~=2.0.0 in /usr/local/lib/python3.9/dist-packages (from requests>=2.19.0->pooch>=1.2.0->metpy) (2.0.12)\n",
            "Requirement already satisfied: idna<4,>=2.5 in /usr/local/lib/python3.9/dist-packages (from requests>=2.19.0->pooch>=1.2.0->metpy) (3.4)\n",
            "Installing collected packages: pyproj, pint, metpy\n",
            "Successfully installed metpy-1.4.1 pint-0.20.1 pyproj-3.4.1\n"
          ]
        }
      ],
      "source": [
        "!pip install metpy"
      ]
    },
    {
      "cell_type": "code",
      "source": [
        "#import needed modules\n",
        "import pandas as pd\n",
        "import numpy as np\n",
        "import matplotlib.pyplot as plt\n",
        "from datetime import datetime, timedelta"
      ],
      "metadata": {
        "id": "XcuZNto4UWUU"
      },
      "execution_count": 2,
      "outputs": []
    },
    {
      "cell_type": "code",
      "source": [
        "#input date and station\n",
        "station=input('Input station id: ')\n",
        "date=input('Input date in YYYMMDD format: ')"
      ],
      "metadata": {
        "colab": {
          "base_uri": "https://localhost:8080/"
        },
        "id": "1IrIJ__SUWWT",
        "outputId": "8f8ae8f7-b22b-486a-b130-7653f70879ba"
      },
      "execution_count": 22,
      "outputs": [
        {
          "name": "stdout",
          "output_type": "stream",
          "text": [
            "Input station id: OKK\n",
            "Input date in YYYMMDD format: 20131117\n"
          ]
        }
      ]
    },
    {
      "cell_type": "code",
      "source": [
        "dt=datetime.strptime(date, '%Y%m%d')\n",
        "print(dt)"
      ],
      "metadata": {
        "colab": {
          "base_uri": "https://localhost:8080/"
        },
        "id": "TiE6x_aDUoOM",
        "outputId": "91a71ca3-4b8d-40c2-ccc7-2b83e4b98153"
      },
      "execution_count": 23,
      "outputs": [
        {
          "output_type": "stream",
          "name": "stdout",
          "text": [
            "2013-11-17 00:00:00\n"
          ]
        }
      ]
    },
    {
      "cell_type": "code",
      "source": [
        "#set up time data\n",
        "date1=dt-timedelta(minutes=10)\n",
        "date2=dt+timedelta(hours=24)-timedelta(minutes=10)"
      ],
      "metadata": {
        "id": "kvKhe9ymUoTb"
      },
      "execution_count": 24,
      "outputs": []
    },
    {
      "cell_type": "code",
      "source": [
        "#read in a and print out data in more readable and aesthetic format\n",
        "\n",
        "data=pd.read_csv(f'C:/Users/17658/Downloads/{station}.csv', usecols=[0,1,4,5,7,8,9,10], index_col=1, parse_dates=True)\n",
        "print(data)"
      ],
      "metadata": {
        "colab": {
          "base_uri": "https://localhost:8080/",
          "height": 363
        },
        "id": "hgsAPE3OUwfk",
        "outputId": "5d12b169-7b71-4164-f808-25cdbaad0308"
      },
      "execution_count": 28,
      "outputs": [
        {
          "output_type": "error",
          "ename": "FileNotFoundError",
          "evalue": "ignored",
          "traceback": [
            "\u001b[0;31m---------------------------------------------------------------------------\u001b[0m",
            "\u001b[0;31mFileNotFoundError\u001b[0m                         Traceback (most recent call last)",
            "\u001b[0;32m<ipython-input-28-b754e42bb9dc>\u001b[0m in \u001b[0;36m<module>\u001b[0;34m\u001b[0m\n\u001b[1;32m      1\u001b[0m \u001b[0;31m#read in a and print out data in more readable and aesthetic format\u001b[0m\u001b[0;34m\u001b[0m\u001b[0;34m\u001b[0m\u001b[0m\n\u001b[1;32m      2\u001b[0m \u001b[0;34m\u001b[0m\u001b[0m\n\u001b[0;32m----> 3\u001b[0;31m \u001b[0mdata\u001b[0m\u001b[0;34m=\u001b[0m\u001b[0mpd\u001b[0m\u001b[0;34m.\u001b[0m\u001b[0mread_csv\u001b[0m\u001b[0;34m(\u001b[0m\u001b[0;34mf'C:/Users/17658/Downloads/{station}.csv'\u001b[0m\u001b[0;34m,\u001b[0m \u001b[0musecols\u001b[0m\u001b[0;34m=\u001b[0m\u001b[0;34m[\u001b[0m\u001b[0;36m0\u001b[0m\u001b[0;34m,\u001b[0m\u001b[0;36m1\u001b[0m\u001b[0;34m,\u001b[0m\u001b[0;36m4\u001b[0m\u001b[0;34m,\u001b[0m\u001b[0;36m5\u001b[0m\u001b[0;34m,\u001b[0m\u001b[0;36m7\u001b[0m\u001b[0;34m,\u001b[0m\u001b[0;36m8\u001b[0m\u001b[0;34m,\u001b[0m\u001b[0;36m9\u001b[0m\u001b[0;34m,\u001b[0m\u001b[0;36m10\u001b[0m\u001b[0;34m]\u001b[0m\u001b[0;34m,\u001b[0m \u001b[0mindex_col\u001b[0m\u001b[0;34m=\u001b[0m\u001b[0;36m1\u001b[0m\u001b[0;34m,\u001b[0m \u001b[0mparse_dates\u001b[0m\u001b[0;34m=\u001b[0m\u001b[0;32mTrue\u001b[0m\u001b[0;34m)\u001b[0m\u001b[0;34m\u001b[0m\u001b[0;34m\u001b[0m\u001b[0m\n\u001b[0m\u001b[1;32m      4\u001b[0m \u001b[0mprint\u001b[0m\u001b[0;34m(\u001b[0m\u001b[0mdata\u001b[0m\u001b[0;34m)\u001b[0m\u001b[0;34m\u001b[0m\u001b[0;34m\u001b[0m\u001b[0m\n",
            "\u001b[0;32m/usr/local/lib/python3.9/dist-packages/pandas/util/_decorators.py\u001b[0m in \u001b[0;36mwrapper\u001b[0;34m(*args, **kwargs)\u001b[0m\n\u001b[1;32m    309\u001b[0m                     \u001b[0mstacklevel\u001b[0m\u001b[0;34m=\u001b[0m\u001b[0mstacklevel\u001b[0m\u001b[0;34m,\u001b[0m\u001b[0;34m\u001b[0m\u001b[0;34m\u001b[0m\u001b[0m\n\u001b[1;32m    310\u001b[0m                 )\n\u001b[0;32m--> 311\u001b[0;31m             \u001b[0;32mreturn\u001b[0m \u001b[0mfunc\u001b[0m\u001b[0;34m(\u001b[0m\u001b[0;34m*\u001b[0m\u001b[0margs\u001b[0m\u001b[0;34m,\u001b[0m \u001b[0;34m**\u001b[0m\u001b[0mkwargs\u001b[0m\u001b[0;34m)\u001b[0m\u001b[0;34m\u001b[0m\u001b[0;34m\u001b[0m\u001b[0m\n\u001b[0m\u001b[1;32m    312\u001b[0m \u001b[0;34m\u001b[0m\u001b[0m\n\u001b[1;32m    313\u001b[0m         \u001b[0;32mreturn\u001b[0m \u001b[0mwrapper\u001b[0m\u001b[0;34m\u001b[0m\u001b[0;34m\u001b[0m\u001b[0m\n",
            "\u001b[0;32m/usr/local/lib/python3.9/dist-packages/pandas/io/parsers/readers.py\u001b[0m in \u001b[0;36mread_csv\u001b[0;34m(filepath_or_buffer, sep, delimiter, header, names, index_col, usecols, squeeze, prefix, mangle_dupe_cols, dtype, engine, converters, true_values, false_values, skipinitialspace, skiprows, skipfooter, nrows, na_values, keep_default_na, na_filter, verbose, skip_blank_lines, parse_dates, infer_datetime_format, keep_date_col, date_parser, dayfirst, cache_dates, iterator, chunksize, compression, thousands, decimal, lineterminator, quotechar, quoting, doublequote, escapechar, comment, encoding, encoding_errors, dialect, error_bad_lines, warn_bad_lines, on_bad_lines, delim_whitespace, low_memory, memory_map, float_precision, storage_options)\u001b[0m\n\u001b[1;32m    676\u001b[0m     \u001b[0mkwds\u001b[0m\u001b[0;34m.\u001b[0m\u001b[0mupdate\u001b[0m\u001b[0;34m(\u001b[0m\u001b[0mkwds_defaults\u001b[0m\u001b[0;34m)\u001b[0m\u001b[0;34m\u001b[0m\u001b[0;34m\u001b[0m\u001b[0m\n\u001b[1;32m    677\u001b[0m \u001b[0;34m\u001b[0m\u001b[0m\n\u001b[0;32m--> 678\u001b[0;31m     \u001b[0;32mreturn\u001b[0m \u001b[0m_read\u001b[0m\u001b[0;34m(\u001b[0m\u001b[0mfilepath_or_buffer\u001b[0m\u001b[0;34m,\u001b[0m \u001b[0mkwds\u001b[0m\u001b[0;34m)\u001b[0m\u001b[0;34m\u001b[0m\u001b[0;34m\u001b[0m\u001b[0m\n\u001b[0m\u001b[1;32m    679\u001b[0m \u001b[0;34m\u001b[0m\u001b[0m\n\u001b[1;32m    680\u001b[0m \u001b[0;34m\u001b[0m\u001b[0m\n",
            "\u001b[0;32m/usr/local/lib/python3.9/dist-packages/pandas/io/parsers/readers.py\u001b[0m in \u001b[0;36m_read\u001b[0;34m(filepath_or_buffer, kwds)\u001b[0m\n\u001b[1;32m    573\u001b[0m \u001b[0;34m\u001b[0m\u001b[0m\n\u001b[1;32m    574\u001b[0m     \u001b[0;31m# Create the parser.\u001b[0m\u001b[0;34m\u001b[0m\u001b[0;34m\u001b[0m\u001b[0m\n\u001b[0;32m--> 575\u001b[0;31m     \u001b[0mparser\u001b[0m \u001b[0;34m=\u001b[0m \u001b[0mTextFileReader\u001b[0m\u001b[0;34m(\u001b[0m\u001b[0mfilepath_or_buffer\u001b[0m\u001b[0;34m,\u001b[0m \u001b[0;34m**\u001b[0m\u001b[0mkwds\u001b[0m\u001b[0;34m)\u001b[0m\u001b[0;34m\u001b[0m\u001b[0;34m\u001b[0m\u001b[0m\n\u001b[0m\u001b[1;32m    576\u001b[0m \u001b[0;34m\u001b[0m\u001b[0m\n\u001b[1;32m    577\u001b[0m     \u001b[0;32mif\u001b[0m \u001b[0mchunksize\u001b[0m \u001b[0;32mor\u001b[0m \u001b[0miterator\u001b[0m\u001b[0;34m:\u001b[0m\u001b[0;34m\u001b[0m\u001b[0;34m\u001b[0m\u001b[0m\n",
            "\u001b[0;32m/usr/local/lib/python3.9/dist-packages/pandas/io/parsers/readers.py\u001b[0m in \u001b[0;36m__init__\u001b[0;34m(self, f, engine, **kwds)\u001b[0m\n\u001b[1;32m    930\u001b[0m \u001b[0;34m\u001b[0m\u001b[0m\n\u001b[1;32m    931\u001b[0m         \u001b[0mself\u001b[0m\u001b[0;34m.\u001b[0m\u001b[0mhandles\u001b[0m\u001b[0;34m:\u001b[0m \u001b[0mIOHandles\u001b[0m \u001b[0;34m|\u001b[0m \u001b[0;32mNone\u001b[0m \u001b[0;34m=\u001b[0m \u001b[0;32mNone\u001b[0m\u001b[0;34m\u001b[0m\u001b[0;34m\u001b[0m\u001b[0m\n\u001b[0;32m--> 932\u001b[0;31m         \u001b[0mself\u001b[0m\u001b[0;34m.\u001b[0m\u001b[0m_engine\u001b[0m \u001b[0;34m=\u001b[0m \u001b[0mself\u001b[0m\u001b[0;34m.\u001b[0m\u001b[0m_make_engine\u001b[0m\u001b[0;34m(\u001b[0m\u001b[0mf\u001b[0m\u001b[0;34m,\u001b[0m \u001b[0mself\u001b[0m\u001b[0;34m.\u001b[0m\u001b[0mengine\u001b[0m\u001b[0;34m)\u001b[0m\u001b[0;34m\u001b[0m\u001b[0;34m\u001b[0m\u001b[0m\n\u001b[0m\u001b[1;32m    933\u001b[0m \u001b[0;34m\u001b[0m\u001b[0m\n\u001b[1;32m    934\u001b[0m     \u001b[0;32mdef\u001b[0m \u001b[0mclose\u001b[0m\u001b[0;34m(\u001b[0m\u001b[0mself\u001b[0m\u001b[0;34m)\u001b[0m\u001b[0;34m:\u001b[0m\u001b[0;34m\u001b[0m\u001b[0;34m\u001b[0m\u001b[0m\n",
            "\u001b[0;32m/usr/local/lib/python3.9/dist-packages/pandas/io/parsers/readers.py\u001b[0m in \u001b[0;36m_make_engine\u001b[0;34m(self, f, engine)\u001b[0m\n\u001b[1;32m   1214\u001b[0m             \u001b[0;31m# \"Union[str, PathLike[str], ReadCsvBuffer[bytes], ReadCsvBuffer[str]]\"\u001b[0m\u001b[0;34m\u001b[0m\u001b[0;34m\u001b[0m\u001b[0m\n\u001b[1;32m   1215\u001b[0m             \u001b[0;31m# , \"str\", \"bool\", \"Any\", \"Any\", \"Any\", \"Any\", \"Any\"\u001b[0m\u001b[0;34m\u001b[0m\u001b[0;34m\u001b[0m\u001b[0m\n\u001b[0;32m-> 1216\u001b[0;31m             self.handles = get_handle(  # type: ignore[call-overload]\n\u001b[0m\u001b[1;32m   1217\u001b[0m                 \u001b[0mf\u001b[0m\u001b[0;34m,\u001b[0m\u001b[0;34m\u001b[0m\u001b[0;34m\u001b[0m\u001b[0m\n\u001b[1;32m   1218\u001b[0m                 \u001b[0mmode\u001b[0m\u001b[0;34m,\u001b[0m\u001b[0;34m\u001b[0m\u001b[0;34m\u001b[0m\u001b[0m\n",
            "\u001b[0;32m/usr/local/lib/python3.9/dist-packages/pandas/io/common.py\u001b[0m in \u001b[0;36mget_handle\u001b[0;34m(path_or_buf, mode, encoding, compression, memory_map, is_text, errors, storage_options)\u001b[0m\n\u001b[1;32m    784\u001b[0m         \u001b[0;32mif\u001b[0m \u001b[0mioargs\u001b[0m\u001b[0;34m.\u001b[0m\u001b[0mencoding\u001b[0m \u001b[0;32mand\u001b[0m \u001b[0;34m\"b\"\u001b[0m \u001b[0;32mnot\u001b[0m \u001b[0;32min\u001b[0m \u001b[0mioargs\u001b[0m\u001b[0;34m.\u001b[0m\u001b[0mmode\u001b[0m\u001b[0;34m:\u001b[0m\u001b[0;34m\u001b[0m\u001b[0;34m\u001b[0m\u001b[0m\n\u001b[1;32m    785\u001b[0m             \u001b[0;31m# Encoding\u001b[0m\u001b[0;34m\u001b[0m\u001b[0;34m\u001b[0m\u001b[0m\n\u001b[0;32m--> 786\u001b[0;31m             handle = open(\n\u001b[0m\u001b[1;32m    787\u001b[0m                 \u001b[0mhandle\u001b[0m\u001b[0;34m,\u001b[0m\u001b[0;34m\u001b[0m\u001b[0;34m\u001b[0m\u001b[0m\n\u001b[1;32m    788\u001b[0m                 \u001b[0mioargs\u001b[0m\u001b[0;34m.\u001b[0m\u001b[0mmode\u001b[0m\u001b[0;34m,\u001b[0m\u001b[0;34m\u001b[0m\u001b[0;34m\u001b[0m\u001b[0m\n",
            "\u001b[0;31mFileNotFoundError\u001b[0m: [Errno 2] No such file or directory: 'C:/Users/17658/Downloads/OKK.csv'"
          ]
        }
      ]
    },
    {
      "cell_type": "code",
      "source": [
        "#generate temp/dew point meteogram\n",
        "\n",
        "plt.figure(1,figsize = (20,7))\n",
        "\n",
        "plt.plot(data.loc[date1:date2].index, data.loc[date1:date2].tmpf, color ='maroon', linewidth=5, label = 'TMPF')\n",
        "plt.plot(data.loc[date1:date2].index, data.loc[date1:date2].dwpf, color ='darkgreen', linewidth=5, label = 'DWPF')\n",
        "\n",
        "plt.xlabel('time')\n",
        "plt.ylabel('temperature(F)')\n",
        "\n",
        "plt.fill_between(data.loc[date1:date2].index, data.loc[date1:date2].tmpf, data.loc[date1:date2].dwpf,  color ='red')\n",
        "plt.fill_between(data.loc[date1:date2].index,data.loc[date1:date2].dwpf,0,color='green')\n",
        "                 \n",
        "plt.legend()\n",
        "plt.title('Temperature and Dew Point values')\n",
        "plt.grid()\n",
        "plt.show()"
      ],
      "metadata": {
        "id": "r9iO6n45Uwlc"
      },
      "execution_count": null,
      "outputs": []
    },
    {
      "cell_type": "code",
      "source": [
        "#generate altimeter meteogram\n",
        "\n",
        "plt.figure(1,figsize = (20,7))\n",
        "\n",
        "plt.plot(data.loc[date1:date2].index, data.loc[date1:date2].alti, color ='orange', linewidth=5, label = 'altimeter(hg)')\n",
        "plt.fill_between(data.loc[date1:date2].index,data.loc[date1:date2].alti,0,color='sienna')\n",
        "\n",
        "plt.ylim(29.5, 30.1)\n",
        "plt.xlabel('time')\n",
        "plt.ylabel('pressure (hg)')\n",
        "\n",
        "plt.legend()\n",
        "plt.title('Altimeter values (hg)')\n",
        "plt.grid()\n",
        "plt.show()"
      ],
      "metadata": {
        "id": "ATXRaXXwUWYj"
      },
      "execution_count": null,
      "outputs": []
    },
    {
      "cell_type": "code",
      "source": [
        "#generate wind meteogram\n",
        "\n",
        "plt.figure(3,figsize=(20,7))\n",
        "\n",
        "plt1=plt.subplot()\n",
        "\n",
        "b1=plt1.bar(data.loc[date1:date2].index, data.loc[date1:date2].sknt, color='lightblue', label = 'Wind speed (knt)', align ='center', width=0.01)\n",
        "\n",
        "plt2=plt1.twinx()\n",
        "\n",
        "s1=plt2.scatter(data.loc[date1:date2].index, data.loc[date1:date2].drct, s=100, color='maroon', marker='*', label = 'wind direction (degrees)') \n",
        "\n",
        "plt1.set_ylabel('wind speed (kts)')\n",
        "plt2.set_ylabel('wind direction (degrees)')\n",
        "\n",
        "plt.legend([b1,s1],['wind speed (kts)', 'wind direction (degrees)'])\n",
        "plt.grid()\n",
        "plt.show()"
      ],
      "metadata": {
        "id": "BqXaqOdyYERl"
      },
      "execution_count": null,
      "outputs": []
    },
    {
      "cell_type": "code",
      "source": [
        "#generate precip meteogram\n",
        "\n",
        "plt.figure(1,figsize = (20,7))\n",
        "\n",
        "plt.plot(data.loc[date1:date2].index, np.cumsum(data.loc[date1:date2].p01i), color ='green', linewidth=5, label = 'precip(in)')\n",
        "plt.fill_between(data.loc[date1:date2].index, np.cumsum(data.loc[date1:date2].p01i),0,color='lightgreen')\n",
        "\n",
        "\n",
        "plt.ylim(0,0.8)\n",
        "plt.xlabel('time')\n",
        "plt.ylabel('precip accumulation (in)')\n",
        "\n",
        "plt.legend()\n",
        "plt.title('Precip accumulation (in)')\n",
        "plt.grid()\n",
        "plt.show()"
      ],
      "metadata": {
        "id": "LX8BD63hUWa9"
      },
      "execution_count": null,
      "outputs": []
    },
    {
      "cell_type": "code",
      "source": [
        "#temperature stats\n",
        "print(f'Daily Statistics for {station} on {dt}')\n",
        "print()\n",
        "print('Statistics for Temperature')\n",
        "\n",
        "max=np.max(data.loc[date1:date2].tmpf)\n",
        "time_max=np.where(data.loc[date1:date2].tmpf==max)[0][0]\n",
        "where_max=(data.loc[date1:date2].tmpf.index[time_max])\n",
        "\n",
        "min=np.min(data.loc[date1:date2].tmpf)\n",
        "time_min=np.where(data.loc[date1:date2].tmpf==min)[0][0]\n",
        "where_min=(data.loc[date1:date2].tmpf.index[time_min])\n",
        "\n",
        "tmpf_avr=np.average(data.loc[date1:date2].tmpf)\n",
        "\n",
        "print(f'Max temp: {max} F at {where_max}')\n",
        "print(f'Min temp: {min} F at {where_min}')\n",
        "print(f'Average temp: {tmpf_avr} F ')"
      ],
      "metadata": {
        "id": "V_Vn1Gs6YNFU"
      },
      "execution_count": null,
      "outputs": []
    },
    {
      "cell_type": "code",
      "source": [
        "#dew point stats\n",
        "\n",
        "print('Statistics for dew point')\n",
        "max=np.max(data.loc[date1:date2].dwpf)\n",
        "time_max=np.where(data.loc[date1:date2].dwpf==max)[0][0]\n",
        "where_max=(data.loc[date1:date2].dwpf.index[time_max])\n",
        "\n",
        "min=np.min(data.loc[date1:date2].dwpf)\n",
        "time_min=np.where(data.loc[date1:date2].dwpf==min)[0][0]\n",
        "where_min=(data.loc[date1:date2].dwpf.index[time_min])\n",
        "\n",
        "dwpf_avr=np.average(data.loc[date1:date2].dwpf)\n",
        "\n",
        "print(f'Max dew point: {max} F at {where_max}')\n",
        "print(f'Min dew point: {min} F at {where_min}')\n",
        "print(f'Average dew point: {dwpf_avr} F ')"
      ],
      "metadata": {
        "id": "B6_wO18XYNKz"
      },
      "execution_count": null,
      "outputs": []
    },
    {
      "cell_type": "code",
      "source": [
        "# #altimeter stats\n",
        "print('Statistics for altimeter')\n",
        "\n",
        "max=np.max(data.loc[date1:date2].alti)\n",
        "time_max=np.where(data.loc[date1:date2].alti==max)[0][0]\n",
        "where_max=(data.loc[date1:date2].alti.index[time_max])\n",
        "\n",
        "min=np.min(data.loc[date1:date2].alti)\n",
        "time_min=np.where(data.loc[date1:date2].alti==min)[0][0]\n",
        "where_min=(data.loc[date1:date2].alti.index[time_min])\n",
        "\n",
        "alti_avr=np.average(data.loc[date1:date2].alti)\n",
        "\n",
        "print(f'Max pressure: {max} Hg at {where_max}')\n",
        "print(f'Min pressure: {min} hg at {where_min}')\n",
        "print(f'Average pressure: {alti_avr} Hg ')"
      ],
      "metadata": {
        "id": "dnDwUKYNYSQz"
      },
      "execution_count": null,
      "outputs": []
    },
    {
      "cell_type": "code",
      "source": [
        "#wind stats\n",
        "print('Statistics for wind')\n",
        "\n",
        "max=np.max(data.loc[date1:date2].sknt)\n",
        "time_max=np.where(data.loc[date1:date2].sknt==max)[0][0]\n",
        "where_max=(data.loc[date1:date2].sknt.index[time_max])\n",
        "dir_max=(data.loc[where_max].drct)\n",
        "\n",
        "min=np.min(data.loc[date1:date2].sknt)\n",
        "time_min=np.where(data.loc[date1:date2].sknt==min)[0][0]\n",
        "where_min=(data.loc[date1:date2].sknt.index[time_min])\n",
        "dir_min=(data.loc[where_min].drct)\n",
        "\n",
        "sknt_avr=np.average(data.loc[date1:date2].sknt)\n",
        "print(f'max: {max} kts at {where_max}')\n",
        "print(f'max wind from {dir_max} deg')\n",
        "print(f'min: {min} kts at {where_min}')\n",
        "print(f'min wind from {dir_min} deg')\n",
        "print(f'average: {sknt_avr} kts')"
      ],
      "metadata": {
        "id": "awuTqoOWYNOz"
      },
      "execution_count": null,
      "outputs": []
    },
    {
      "cell_type": "code",
      "source": [
        "#precip stats\n",
        "print('Statistics for precip')\n",
        "\n",
        "sum_precip=np.sum(data.loc[date1:date2].p01i)\n",
        "print(f'Precipitation Accumulation: {sum_precip} in')\n",
        "\n",
        "tmpf_less_32=data.loc[date1:date2].tmpf<32\n",
        "tmpf_more_32=data.loc[date1:date2].tmpf>32\n",
        "#data.loc[date1:date2].tmpf[tmpf_less_32].count()\n",
        "#data.loc[date1:date2].tmpf[tmpf_more_32].count()\n",
        "\n",
        "print(f'number of hours under 32 F: {data.loc[date1:date2].tmpf[tmpf_less_32].count()}')\n",
        "print(f'number of hours over 32 F: {data.loc[date1:date2].tmpf[tmpf_more_32].count()}')"
      ],
      "metadata": {
        "id": "wVdiUN1oYZm1"
      },
      "execution_count": null,
      "outputs": []
    }
  ]
}