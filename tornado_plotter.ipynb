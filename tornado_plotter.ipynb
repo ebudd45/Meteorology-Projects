{
  "nbformat": 4,
  "nbformat_minor": 0,
  "metadata": {
    "colab": {
      "provenance": [],
      "authorship_tag": "ABX9TyNyX/d6ucJJUDFg39XHGZ9/",
      "include_colab_link": true
    },
    "kernelspec": {
      "name": "python3",
      "display_name": "Python 3"
    },
    "language_info": {
      "name": "python"
    }
  },
  "cells": [
    {
      "cell_type": "markdown",
      "metadata": {
        "id": "view-in-github",
        "colab_type": "text"
      },
      "source": [
        "<a href=\"https://colab.research.google.com/github/ebudd45/Meteorologyclass/blob/main/tornado_plotter.ipynb\" target=\"_parent\"><img src=\"https://colab.research.google.com/assets/colab-badge.svg\" alt=\"Open In Colab\"/></a>"
      ]
    },
    {
      "cell_type": "code",
      "source": [
        "!pip install metpy\n",
        "!pip install cartopy"
      ],
      "metadata": {
        "id": "6sA-S0V0gt6C"
      },
      "execution_count": null,
      "outputs": []
    },
    {
      "cell_type": "code",
      "execution_count": 10,
      "metadata": {
        "colab": {
          "base_uri": "https://localhost:8080/"
        },
        "id": "aq-pzu9Cgiu-",
        "outputId": "8dd5c791-615c-4591-dfcd-21f25907ce27"
      },
      "outputs": [
        {
          "output_type": "stream",
          "name": "stdout",
          "text": [
            "-\n"
          ]
        }
      ],
      "source": [
        "# IMPORTS -----------------------------------------------------------------------------------------------------------------------\n",
        "import warnings\n",
        "warnings.filterwarnings(\"ignore\")\n",
        "\n",
        "import cartopy.feature as cfeature\n",
        "import cartopy.crs as ccrs\n",
        "import pandas         as pd\n",
        "import numpy          as np\n",
        "import matplotlib\n",
        "import matplotlib.pyplot   as plt\n",
        "from metpy.plots import USCOUNTIES\n",
        "import cartopy.feature as cfeature\n",
        "import matplotlib.patheffects as pe\n",
        "from geopy.geocoders  import Nominatim\n",
        "import cartopy.io.img_tiles as cimgt\n",
        "from datetime       import datetime, timedelta\n",
        "from dateutil       import tz\n",
        "import time\n",
        "#from timezonefinder import TimezoneFinder\n",
        "\n",
        "\n",
        "states = {\n",
        "    'AK': 'Alaska',\n",
        "    'AL': 'Alabama',\n",
        "    'AR': 'Arkansas',\n",
        "    'AZ': 'Arizona',\n",
        "    'CA': 'California',\n",
        "    'CO': 'Colorado',\n",
        "    'CT': 'Connecticut',\n",
        "    'DC': 'District of Columbia',\n",
        "    'DE': 'Delaware',\n",
        "    'FL': 'Florida',\n",
        "    'GA': 'Georgia',\n",
        "    'HI': 'Hawaii',\n",
        "    'IA': 'Iowa',\n",
        "    'ID': 'Idaho',\n",
        "    'IL': 'Illinois',\n",
        "    'IN': 'Indiana',\n",
        "    'KS': 'Kansas',\n",
        "    'KY': 'Kentucky',\n",
        "    'LA': 'Louisiana',\n",
        "    'MA': 'Massachusetts',\n",
        "    'MD': 'Maryland',\n",
        "    'ME': 'Maine',\n",
        "    'MI': 'Michigan',\n",
        "    'MN': 'Minnesota',\n",
        "    'MO': 'Missouri',\n",
        "    'MS': 'Mississippi',\n",
        "    'MT': 'Montana',\n",
        "    'NC': 'North Carolina',\n",
        "    'ND': 'North Dakota',\n",
        "    'NE': 'Nebraska',\n",
        "    'NH': 'New Hampshire',\n",
        "    'NJ': 'New Jersey',\n",
        "    'NM': 'New Mexico',\n",
        "    'NV': 'Nevada',\n",
        "    'NY': 'New York',\n",
        "    'OH': 'Ohio',\n",
        "    'OK': 'Oklahoma',\n",
        "    'OR': 'Oregon',\n",
        "    'PA': 'Pennsylvania',\n",
        "    'RI': 'Rhode Island',\n",
        "    'SC': 'South Carolina',\n",
        "    'SD': 'South Dakota',\n",
        "    'TN': 'Tennessee',\n",
        "    'TX': 'Texas',\n",
        "    'UT': 'Utah',\n",
        "    'VA': 'Virginia',\n",
        "    'VT': 'Vermont',\n",
        "    'WA': 'Washington',\n",
        "    'WI': 'Wisconsin',\n",
        "    'WV': 'West Virginia',\n",
        "    'WY': 'Wyoming'\n",
        "}\n",
        "print('-')"
      ]
    },
    {
      "cell_type": "code",
      "source": [
        "yourName = 'Elliott' # ADD YOUR NAME IN ALL CAPS TO THE BOTTOM OF THE PLOT\n",
        "\n",
        "#### PLOT TYPE (all tornadoes for state, or all tornadoes on a date, or both)\n",
        "plotType = 'state'\n",
        "#plotType = 'date'\n",
        "#plotType = 'state-date'\n",
        "\n",
        "#### LOCATION (use 'city' to center the plot how you like, 'state' determines what state to plot. The city needs to be in the state you choose)\n",
        "city     = \"Colo\"\n",
        "stateAbv = \"IA\"\n",
        "\n",
        "#### Date variables only needed if making a date plot **(UTC TIME)**\n",
        "year     = \"2008\"\n",
        "month    = \"05\"\n",
        "day      = \"25\"\n",
        "\n",
        "#### BACKGROUND STYLE\n",
        "#background = 'gray' # Gray\n",
        "background = 'terrain' # Detailed Terrain\n",
        "#background = 'terrain-gray' # Dimmed Terrain\n",
        "#background = 'terrain-labels' # Terrain with physical and cultural lables (image overly quaility is so-so)\n",
        "\n",
        "#### ZOOM LEVEL\n",
        "#zoomLevel = 'regional'\n",
        "#zoomLevel = 'sub-regional'\n",
        "zoomLevel = 'state-large'\n",
        "#zoomLevel = 'state-small'\n",
        "#zoomLevel = 'sub-state'\n",
        "#zoomLevel = 'local'\n",
        "\n",
        "# determine lat/lon of user specified city for map center - this does not change\n",
        "geolocator = Nominatim(user_agent=\"Your_Name\") #do not change this line\n",
        "loc = geolocator.geocode(city+','+ states[stateAbv])\n",
        "center_lat = (np.round(loc.latitude,2))\n",
        "center_lon = np.round(loc.longitude,2)\n",
        "# YOU CAN SET MANUAL LAT/LON HERE IF YOU'D LIKE\n",
        "#center_lat1 = 43.1\n",
        "#center_lon1 = -83.73\n",
        "# LAT / LON DETERMINED BY SELECTED CITY ABOVE\n",
        "center_lat1 = center_lat\n",
        "center_lon1 = center_lon\n",
        "# CREATE SMALL GRIDDED AREA FOR MAP\n",
        "north_lat = center_lat1 + .5\n",
        "south_lat = center_lat1 - .5\n",
        "west_lon = center_lon1 - .5\n",
        "east_lon = center_lon1 + .5\n",
        "\n",
        "# DETERMINE ZOOM DETAILS FOR SELECTED zoomLevel ABOVE\n",
        "zooms = {\n",
        "    'regional'       : [([west_lon -7, east_lon +7, south_lat -7, north_lat +7]), 7, 7],\n",
        "    'sub-regional'   : [([west_lon -4.5, east_lon +4.5, south_lat -4.5, north_lat +4.5]), 7, 7],\n",
        "    'state-large'    : [([west_lon -2.8, east_lon +2.8, south_lat -2.8, north_lat +2.8]), 10, 8],\n",
        "    'state-small'    : [([west_lon -2.5, east_lon +2.5, south_lat -2.5, north_lat +2.5]), 10, 8],\n",
        "    'sub-state'      : [([west_lon -1, east_lon +1, south_lat -1, north_lat +1]), 9, 9],\n",
        "    'local'          : [([west_lon, east_lon, south_lat, north_lat]), 10, 10]\n",
        "}\n",
        "\n",
        "# DETERMINE LOCAL TIME TO CALCULATE OO UTC TO LOCAL MIDNIGHT OFFSET\n",
        "# THIS WILL BE USED IN THE CELL BELOW FOR DATE SORTED TRACKS TO ACCOUNT\n",
        "# FOR TORNADOES BETWEEN 00Z UTC AND MIDNIGHT LOCAL TIME, THAT WAY THE PLOT IS\n",
        "# IN LOCAL TIME.\n",
        "tzFinder = TimezoneFinder()                # create tz object to find tz automatically\n",
        "timeZone = tzFinder.timezone_at(lng=center_lon, lat=center_lat) # find tz for lat/lon\n",
        "date1_dt = datetime(int(year), int(month), int(day), int(0)) # declare utc datetime object\n",
        "from_zone = tz.gettz('UTC')                # 'from'-time zone (always UTC)\n",
        "to_zone = tz.gettz(timeZone)               # 'to'-time zone\n",
        "utc = date1_dt.replace(tzinfo=from_zone)   # tell UTC datetime object that it is in UTC time\n",
        "local_date = utc.astimezone(to_zone)       # convert UTC datetime object to local datetime object\n",
        "local_hour = local_date.strftime(\"%H\")     # determine local hour in 24hr format"
      ],
      "metadata": {
        "colab": {
          "base_uri": "https://localhost:8080/",
          "height": 211
        },
        "id": "ddTdetgMheUa",
        "outputId": "92e70292-03ad-4c01-f93e-95bce0ee23cc"
      },
      "execution_count": 11,
      "outputs": [
        {
          "output_type": "error",
          "ename": "NameError",
          "evalue": "name 'TimezoneFinder' is not defined",
          "traceback": [
            "\u001b[0;31m---------------------------------------------------------------------------\u001b[0m",
            "\u001b[0;31mNameError\u001b[0m                                 Traceback (most recent call last)",
            "\u001b[0;32m<ipython-input-11-026ccaacd941>\u001b[0m in \u001b[0;36m<cell line: 0>\u001b[0;34m()\u001b[0m\n\u001b[1;32m     60\u001b[0m \u001b[0;31m# FOR TORNADOES BETWEEN 00Z UTC AND MIDNIGHT LOCAL TIME, THAT WAY THE PLOT IS\u001b[0m\u001b[0;34m\u001b[0m\u001b[0;34m\u001b[0m\u001b[0m\n\u001b[1;32m     61\u001b[0m \u001b[0;31m# IN LOCAL TIME.\u001b[0m\u001b[0;34m\u001b[0m\u001b[0;34m\u001b[0m\u001b[0m\n\u001b[0;32m---> 62\u001b[0;31m \u001b[0mtzFinder\u001b[0m \u001b[0;34m=\u001b[0m \u001b[0mTimezoneFinder\u001b[0m\u001b[0;34m(\u001b[0m\u001b[0;34m)\u001b[0m                \u001b[0;31m# create tz object to find tz automatically\u001b[0m\u001b[0;34m\u001b[0m\u001b[0;34m\u001b[0m\u001b[0m\n\u001b[0m\u001b[1;32m     63\u001b[0m \u001b[0mtimeZone\u001b[0m \u001b[0;34m=\u001b[0m \u001b[0mtzFinder\u001b[0m\u001b[0;34m.\u001b[0m\u001b[0mtimezone_at\u001b[0m\u001b[0;34m(\u001b[0m\u001b[0mlng\u001b[0m\u001b[0;34m=\u001b[0m\u001b[0mcenter_lon\u001b[0m\u001b[0;34m,\u001b[0m \u001b[0mlat\u001b[0m\u001b[0;34m=\u001b[0m\u001b[0mcenter_lat\u001b[0m\u001b[0;34m)\u001b[0m \u001b[0;31m# find tz for lat/lon\u001b[0m\u001b[0;34m\u001b[0m\u001b[0;34m\u001b[0m\u001b[0m\n\u001b[1;32m     64\u001b[0m \u001b[0mdate1_dt\u001b[0m \u001b[0;34m=\u001b[0m \u001b[0mdatetime\u001b[0m\u001b[0;34m(\u001b[0m\u001b[0mint\u001b[0m\u001b[0;34m(\u001b[0m\u001b[0myear\u001b[0m\u001b[0;34m)\u001b[0m\u001b[0;34m,\u001b[0m \u001b[0mint\u001b[0m\u001b[0;34m(\u001b[0m\u001b[0mmonth\u001b[0m\u001b[0;34m)\u001b[0m\u001b[0;34m,\u001b[0m \u001b[0mint\u001b[0m\u001b[0;34m(\u001b[0m\u001b[0mday\u001b[0m\u001b[0;34m)\u001b[0m\u001b[0;34m,\u001b[0m \u001b[0mint\u001b[0m\u001b[0;34m(\u001b[0m\u001b[0;36m0\u001b[0m\u001b[0;34m)\u001b[0m\u001b[0;34m)\u001b[0m \u001b[0;31m# declare utc datetime object\u001b[0m\u001b[0;34m\u001b[0m\u001b[0;34m\u001b[0m\u001b[0m\n",
            "\u001b[0;31mNameError\u001b[0m: name 'TimezoneFinder' is not defined"
          ]
        }
      ]
    }
  ]
}